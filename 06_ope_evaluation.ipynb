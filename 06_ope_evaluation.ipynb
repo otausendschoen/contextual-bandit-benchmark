{
 "cells": [
  {
   "cell_type": "markdown",
   "id": "c28c8cd2",
   "metadata": {},
   "source": [
    "![bse_logo_textminingcourse](https://bse.eu/sites/default/files/bse_logo_small.png)\n",
    "\n",
    "# *Final Project: Contextual Bandits - Algorithm Analysis*\n",
    "\n",
    "## Reinforcement Learning\n",
    "\n",
    "#### Authors: **Timothy Cassel, Marvin Ernst, Oliver Tausendschön**\n",
    "\n",
    "Date: July 2, 2025  \n",
    "Instructors: *Hamish Flynn and Vincent Adam*\n",
    "\n",
    "---\n",
    "\n",
    "### **06 Off-Policy Evaluation with Preprocessed Top-3 Arms and Full Dataset**\n",
    "\n",
    "In this notebook, we extend our contextual bandit analysis using the **Open Bandit Dataset (OBD)**. The focus lies on evaluating multiple offline estimators across different policies using a reduced dataset (top-3 arms) and the full dataset (80 arms).\n",
    "\n",
    "We perform the following:\n",
    "- Correct for uniform **propensity scores** in subset data (1/3 for 3 arms)\n",
    "- Define and simulate the following policies:\n",
    "  - **Random**\n",
    "  - **Thompson Sampling (TS)**\n",
    "  - **LinUCB** variants ($\\alpha$ = 0.0, 0.1, 0.5)\n",
    "  - **LinEpsilonGreedy ($\\epsilon$ = 0.1)**\n",
    "- Train a **reward model** using **Logistic Regression** for use in model-based OPE estimators\n",
    "- Evaluate all policies using:\n",
    "  - **Inverse Propensity Weighting (IPW)**\n",
    "  - **Direct Method (DM)**\n",
    "  - **Doubly Robust (DR)**\n",
    "- Visualize estimated policy values with **confidence intervals**\n",
    "- Compare findings between the reduced and full dataset\n",
    "\n",
    "The notebook provides insight into how offline estimators behave under different data regimes and how policies compare in terms of performance and estimator reliability.\n",
    "\n",
    "---\n",
    "\n",
    "Import relevant Libraries:"
   ]
  },
  {
   "cell_type": "code",
   "execution_count": 1,
   "id": "26c969bf",
   "metadata": {},
   "outputs": [
    {
     "name": "stderr",
     "output_type": "stream",
     "text": [
      "/Users/Admin/Documents/Git/BSE/RL/contextual-bandit-benchmark/obp-py39-env/lib/python3.9/site-packages/torch/torch_version.py:3: UserWarning: pkg_resources is deprecated as an API. See https://setuptools.pypa.io/en/latest/pkg_resources.html. The pkg_resources package is slated for removal as early as 2025-11-30. Refrain from using this package or pin to Setuptools<81.\n",
      "  from pkg_resources import packaging  # type: ignore[attr-defined]\n",
      "/Users/Admin/Documents/Git/BSE/RL/contextual-bandit-benchmark/obp-py39-env/lib/python3.9/site-packages/tqdm/auto.py:22: TqdmWarning: IProgress not found. Please update jupyter and ipywidgets. See https://ipywidgets.readthedocs.io/en/stable/user_install.html\n",
      "  from .autonotebook import tqdm as notebook_tqdm\n"
     ]
    }
   ],
   "source": [
    "import numpy as np\n",
    "import numpy as np\n",
    "from sklearn.linear_model import LogisticRegression\n",
    "import matplotlib.pyplot as plt\n",
    "import seaborn as sns\n",
    "import pandas as pd\n",
    "from obp.policy import BernoulliTS, LinUCB, LinEpsilonGreedy\n",
    "from obp.ope import (\n",
    "    OffPolicyEvaluation,\n",
    "    RegressionModel,\n",
    "    DirectMethod,\n",
    "    InverseProbabilityWeighting,\n",
    "    DoublyRobust,\n",
    ")"
   ]
  },
  {
   "cell_type": "markdown",
   "id": "e1c53600",
   "metadata": {},
   "source": [
    "**Important to use correct propensity Scores!**\n",
    "\n",
    "Since we only use a fraction of the real data set, i.e., only 3 arms, the need to change.\n",
    "\n",
    "Loading the propnsity score:"
   ]
  },
  {
   "cell_type": "code",
   "execution_count": 77,
   "id": "ce364493",
   "metadata": {},
   "outputs": [],
   "source": [
    "pscore=np.load(\"processed_top3/pscores.npy\")"
   ]
  },
  {
   "cell_type": "markdown",
   "id": "f14ce177",
   "metadata": {},
   "source": [
    "Checking Propensity Scores:"
   ]
  },
  {
   "cell_type": "code",
   "execution_count": 78,
   "id": "e0a1d9f8",
   "metadata": {},
   "outputs": [
    {
     "name": "stdout",
     "output_type": "stream",
     "text": [
      "Min pscore: 0.0125\n",
      "Max pscore: 0.0125\n",
      "Mean pscore: 0.012500000000000002\n",
      "Share of pscores < 0.01: 0.0\n"
     ]
    }
   ],
   "source": [
    "print(\"Min pscore:\", pscore.min())\n",
    "print(\"Max pscore:\", pscore.max())\n",
    "print(\"Mean pscore:\", pscore.mean())\n",
    "print(\"Share of pscores < 0.01:\", (pscore < 0.01).mean())"
   ]
  },
  {
   "cell_type": "markdown",
   "id": "300ee5fe",
   "metadata": {},
   "source": [
    "This confirms, they are all the same, i.e., 1/80 = 0.0125 - since we have 80 arms and they are chosen randomly.\n",
    "\n",
    "Thus, we need to correct them to 1/3!"
   ]
  },
  {
   "cell_type": "markdown",
   "id": "6ca6006d",
   "metadata": {},
   "source": [
    "### 1. Load Preprocessed Data\n",
    "We create a dictionary `bandit_feedback` with:\n",
    "- context\n",
    "- action\n",
    "- reward\n",
    "- pscore (first with placeholder)\n",
    "- position (if list-wise, else fill with 0s)"
   ]
  },
  {
   "cell_type": "code",
   "execution_count": 79,
   "id": "17672b74",
   "metadata": {},
   "outputs": [],
   "source": [
    "bandit_feedback = dict(\n",
    "    n_actions=3,\n",
    "    context=np.load(\"processed_top3/context_reduced.npy\"),\n",
    "    action=np.load(\"processed_top3/actions.npy\"),\n",
    "    reward=np.load(\"processed_top3/rewards.npy\"),\n",
    "    pscore=None  \n",
    ")"
   ]
  },
  {
   "cell_type": "markdown",
   "id": "573ee058",
   "metadata": {},
   "source": [
    "Now, we replace with correct uniform propensity scores:"
   ]
  },
  {
   "cell_type": "code",
   "execution_count": 80,
   "id": "b75feaff",
   "metadata": {},
   "outputs": [],
   "source": [
    "bandit_feedback[\"pscore\"] = np.full_like(bandit_feedback[\"action\"], fill_value=1/3, dtype=np.float64)"
   ]
  },
  {
   "cell_type": "markdown",
   "id": "9f4fc8f1",
   "metadata": {},
   "source": [
    "We add a dummy position info:"
   ]
  },
  {
   "cell_type": "code",
   "execution_count": 81,
   "id": "03044b38",
   "metadata": {},
   "outputs": [],
   "source": [
    "bandit_feedback[\"position\"] = np.zeros_like(bandit_feedback[\"action\"])"
   ]
  },
  {
   "cell_type": "markdown",
   "id": "1b1ecd8c",
   "metadata": {},
   "source": [
    "Sanity check:"
   ]
  },
  {
   "cell_type": "code",
   "execution_count": 100,
   "id": "021e1db6",
   "metadata": {},
   "outputs": [
    {
     "name": "stdout",
     "output_type": "stream",
     "text": [
      "Context shape: (1374327, 12)\n",
      "Min pscore: 0.0125\n",
      "Max pscore: 0.0125\n",
      "Mean pscore: 0.012499999999999976\n"
     ]
    }
   ],
   "source": [
    "print(\"Context shape:\", bandit_feedback[\"context\"].shape)\n",
    "print(\"Min pscore:\", bandit_feedback[\"pscore\"].min())\n",
    "print(\"Max pscore:\", bandit_feedback[\"pscore\"].max())\n",
    "print(\"Mean pscore:\", bandit_feedback[\"pscore\"].mean())"
   ]
  },
  {
   "cell_type": "markdown",
   "id": "cd8bbaa8",
   "metadata": {},
   "source": [
    "### 2. Define Evaluation Policies"
   ]
  },
  {
   "cell_type": "code",
   "execution_count": null,
   "id": "c73f7367",
   "metadata": {},
   "outputs": [],
   "source": [
    "n_rounds = len(bandit_feedback[\"action\"])\n",
    "n_actions = int(np.max(bandit_feedback[\"action\"]) + 1)\n",
    "dim_context = bandit_feedback[\"context\"].shape[1]\n",
    "\n",
    "policies = {\n",
    "    \"Random\": None,  \n",
    "    \"TS\": BernoulliTS(n_actions=n_actions, len_list=1, random_state=123),\n",
    "    \"LinUCB (\\u03b1=0.0)\": LinUCB(n_actions=n_actions, dim=dim_context, epsilon=0.0, random_state=1),\n",
    "    \"LinUCB (\\u03b1=0.1)\": LinUCB(n_actions=n_actions, dim=dim_context, epsilon=0.1, random_state=2),\n",
    "    \"LinUCB (\\u03b1=0.5)\": LinUCB(n_actions=n_actions, dim=dim_context, epsilon=0.5, random_state=3),\n",
    "    \"LinEG (\\u03B5=0.1)\": LinEpsilonGreedy(n_actions=n_actions, dim=dim_context, epsilon=0.1, random_state=4),\n",
    "}"
   ]
  },
  {
   "cell_type": "markdown",
   "id": "a46faa51",
   "metadata": {},
   "source": [
    "We compute action distributions:"
   ]
  },
  {
   "cell_type": "code",
   "execution_count": 84,
   "id": "3629cd3a",
   "metadata": {},
   "outputs": [],
   "source": [
    "action_dists = {}\n",
    "\n",
    "for name, policy in policies.items():\n",
    "    if name == \"Random\":\n",
    "        action_dists[name] = np.ones((n_rounds, n_actions, 1)) / n_actions\n",
    "    elif hasattr(policy, \"compute_batch_action_dist\"):\n",
    "        action_dists[name] = policy.compute_batch_action_dist(n_rounds=n_rounds, n_sim=10000)\n",
    "    else:\n",
    "        # For LinUCB and LinEpsilonGreedy: simulate batch manually\n",
    "        action_dist = np.full((n_rounds, n_actions, 1), policy.epsilon / n_actions)\n",
    "        greedy_actions = np.zeros(n_rounds, dtype=int)\n",
    "        for i in range(n_rounds):\n",
    "            x_i = bandit_feedback[\"context\"][i].reshape(1, -1)\n",
    "            greedy_actions[i] = policy.select_action(context=x_i)\n",
    "            action_dist[i, greedy_actions[i], 0] += 1.0 - policy.epsilon\n",
    "        action_dists[name] = action_dist"
   ]
  },
  {
   "cell_type": "markdown",
   "id": "9c81b9b4",
   "metadata": {},
   "source": [
    "### 3. Reward Model for DM and DR"
   ]
  },
  {
   "cell_type": "code",
   "execution_count": 85,
   "id": "79f04279",
   "metadata": {},
   "outputs": [],
   "source": [
    "regression_model = RegressionModel(\n",
    "    n_actions=n_actions,\n",
    "    len_list=1,\n",
    "    base_model=LogisticRegression(max_iter=1000, random_state=123),\n",
    ")\n",
    "\n",
    "estimated_rewards_by_reg_model = regression_model.fit_predict(\n",
    "    context=bandit_feedback[\"context\"],\n",
    "    action=bandit_feedback[\"action\"],\n",
    "    reward=bandit_feedback[\"reward\"],\n",
    "    position=bandit_feedback[\"position\"],\n",
    "    pscore=bandit_feedback[\"pscore\"],\n",
    "    n_folds=3,\n",
    "    random_state=123,\n",
    ")"
   ]
  },
  {
   "cell_type": "markdown",
   "id": "2db8a4a5",
   "metadata": {},
   "source": [
    "### 4. Off-Policy Evaluation\n",
    "\n",
    "Set seaborn style:"
   ]
  },
  {
   "cell_type": "code",
   "execution_count": 86,
   "id": "7aef49ab",
   "metadata": {},
   "outputs": [],
   "source": [
    "sns.set(style=\"whitegrid\", font_scale=1.2)"
   ]
  },
  {
   "cell_type": "markdown",
   "id": "1a0cdb8b",
   "metadata": {},
   "source": [
    "Define OPE estimators:"
   ]
  },
  {
   "cell_type": "code",
   "execution_count": 87,
   "id": "55fe096d",
   "metadata": {},
   "outputs": [],
   "source": [
    "ope_estimators = [InverseProbabilityWeighting(), DirectMethod(), DoublyRobust()]\n",
    "ope = OffPolicyEvaluation(\n",
    "    bandit_feedback=bandit_feedback,\n",
    "    ope_estimators=ope_estimators,\n",
    ")"
   ]
  },
  {
   "cell_type": "markdown",
   "id": "7ae931ac",
   "metadata": {},
   "source": [
    "We run OPE and store estimated policy values and CIs:"
   ]
  },
  {
   "cell_type": "code",
   "execution_count": 88,
   "id": "c4ed64a4",
   "metadata": {},
   "outputs": [],
   "source": [
    "results = []\n",
    "\n",
    "for policy_name in policies:\n",
    "    if action_dists.get(policy_name) is None:\n",
    "        continue\n",
    "\n",
    "    est_value, ci = ope.summarize_off_policy_estimates(\n",
    "        action_dist=action_dists[policy_name],\n",
    "        estimated_rewards_by_reg_model=estimated_rewards_by_reg_model,\n",
    "        n_bootstrap_samples=5000,\n",
    "        random_state=42,\n",
    "    )\n",
    "\n",
    "    for estimator_name in est_value.index:\n",
    "        value = est_value.loc[estimator_name, \"estimated_policy_value\"]\n",
    "        lower = ci.loc[estimator_name, \"95.0% CI (lower)\"]\n",
    "        upper = ci.loc[estimator_name, \"95.0% CI (upper)\"]\n",
    "\n",
    "        results.append({\n",
    "            \"Policy\": policy_name,\n",
    "            \"Estimator\": estimator_name,\n",
    "            \"Estimated Value\": value,\n",
    "            \"CI Lower\": lower,\n",
    "            \"CI Upper\": upper,\n",
    "            \"CI Width\": upper - lower\n",
    "        })"
   ]
  },
  {
   "cell_type": "markdown",
   "id": "75ebe26d",
   "metadata": {},
   "source": [
    "We create DataFrame:"
   ]
  },
  {
   "cell_type": "code",
   "execution_count": 89,
   "id": "64707fe8",
   "metadata": {},
   "outputs": [],
   "source": [
    "df_results = pd.DataFrame(results)"
   ]
  },
  {
   "cell_type": "markdown",
   "id": "3102180a",
   "metadata": {},
   "source": [
    "#### **Relative Policy Values**"
   ]
  },
  {
   "cell_type": "code",
   "execution_count": 90,
   "id": "ecd240af",
   "metadata": {},
   "outputs": [
    {
     "data": {
      "image/png": "[encoded data removed]",
      "text/plain": [
       "<Figure size 1200x600 with 1 Axes>"
      ]
     },
     "metadata": {},
     "output_type": "display_data"
    }
   ],
   "source": [
    "plt.figure(figsize=(12, 6))\n",
    "\n",
    "# Main barplot\n",
    "ax = sns.barplot(\n",
    "    data=df_results,\n",
    "    x=\"Policy\",\n",
    "    y=\"Estimated Value\",\n",
    "    hue=\"Estimator\",\n",
    "    palette=\"Set2\",\n",
    "    ci=None,\n",
    "    dodge=True,\n",
    ")\n",
    "\n",
    "# Extract hue order to match estimator mapping:\n",
    "hue_order = df_results[\"Estimator\"].unique().tolist()\n",
    "n_hue = len(hue_order)\n",
    "bar_width = 0.8 / n_hue  # total bar width split across estimators\n",
    "\n",
    "# Compute correct x-position and draw error bars manually:\n",
    "for i, row in df_results.iterrows():\n",
    "    policy_index = df_results[\"Policy\"].unique().tolist().index(row[\"Policy\"])\n",
    "    estimator_index = hue_order.index(row[\"Estimator\"])\n",
    "\n",
    "    # Calculate x-position:\n",
    "    x = policy_index - 0.4 + bar_width / 2 + estimator_index * bar_width\n",
    "    y = row[\"Estimated Value\"]\n",
    "    err_low = y - row[\"CI Lower\"]\n",
    "    err_up = row[\"CI Upper\"] - y\n",
    "\n",
    "    # Adding error bar:\n",
    "    ax.errorbar(\n",
    "        x=x,\n",
    "        y=y,\n",
    "        yerr=[[err_low], [err_up]],\n",
    "        fmt='none',\n",
    "        c='black',\n",
    "        capsize=4,\n",
    "        lw=1,\n",
    "    )\n",
    "\n",
    "# Full plot:\n",
    "plt.title(\"Estimated Policy Value by OPE Estimator (with 95% CI)\")\n",
    "plt.xticks(rotation=0, ha=\"center\")\n",
    "plt.ylabel(\"Estimated Policy Value (±95% CI)\")\n",
    "plt.tight_layout()\n",
    "plt.legend(title=\"Estimator\")\n",
    "plt.show()"
   ]
  },
  {
   "cell_type": "markdown",
   "id": "9a23c832",
   "metadata": {},
   "source": [
    "---\n",
    "\n",
    "### **5. Evaluating the Full Data**\n",
    "\n",
    "We still use the preprocessed data, but now, with all arms.\n",
    "\n",
    "**Better to RESTART the Kernel!**"
   ]
  },
  {
   "cell_type": "code",
   "execution_count": 2,
   "id": "e23c8f74",
   "metadata": {},
   "outputs": [
    {
     "name": "stdout",
     "output_type": "stream",
     "text": [
      "Context shape: (1374327, 12)\n"
     ]
    }
   ],
   "source": [
    "bandit_feedback = dict(\n",
    "    n_actions=80,\n",
    "    context=np.load(\"processed/context_reduced.npy\"),\n",
    "    action=np.load(\"processed/actions.npy\"),\n",
    "    reward=np.load(\"processed/rewards.npy\"),\n",
    "    pscore=np.load(\"processed/pscores.npy\")\n",
    ")\n",
    "bandit_feedback[\"position\"] = np.zeros_like(bandit_feedback[\"action\"])\n",
    "print(\"Context shape:\", bandit_feedback[\"context\"].shape)"
   ]
  },
  {
   "cell_type": "markdown",
   "id": "44ebb758",
   "metadata": {},
   "source": [
    "### 6. Update Evaluation Policies"
   ]
  },
  {
   "cell_type": "code",
   "execution_count": 3,
   "id": "ddb213ab",
   "metadata": {},
   "outputs": [],
   "source": [
    "n_rounds = len(bandit_feedback[\"action\"])\n",
    "n_actions = int(np.max(bandit_feedback[\"action\"]) + 1)\n",
    "dim_context = bandit_feedback[\"context\"].shape[1]\n",
    "\n",
    "policies = {\n",
    "    \"Random\": None,  \n",
    "    \"TS\": BernoulliTS(n_actions=n_actions, len_list=1, random_state=123),\n",
    "    \"LinUCB (\\u03b1=0.0)\": LinUCB(n_actions=n_actions, dim=dim_context, epsilon=0.0, random_state=1),\n",
    "    \"LinUCB (\\u03b1=0.1)\": LinUCB(n_actions=n_actions, dim=dim_context, epsilon=0.1, random_state=2),\n",
    "    \"LinUCB (\\u03b1=0.5)\": LinUCB(n_actions=n_actions, dim=dim_context, epsilon=0.5, random_state=3),\n",
    "    \"LinEG (\\u03B5=0.1)\": LinEpsilonGreedy(n_actions=n_actions, dim=dim_context, epsilon=0.1, random_state=4),\n",
    "}"
   ]
  },
  {
   "cell_type": "markdown",
   "id": "a857e772",
   "metadata": {},
   "source": [
    "We compute again the action distributions:"
   ]
  },
  {
   "cell_type": "code",
   "execution_count": null,
   "id": "1e9d972a",
   "metadata": {},
   "outputs": [],
   "source": [
    "action_dists = {}\n",
    "\n",
    "for name, policy in policies.items():\n",
    "    if name == \"Random\":\n",
    "        action_dists[name] = np.ones((n_rounds, n_actions, 1)) / n_actions\n",
    "    elif hasattr(policy, \"compute_batch_action_dist\"):\n",
    "        action_dists[name] = policy.compute_batch_action_dist(n_rounds=n_rounds, n_sim=10000)\n",
    "    else:\n",
    "        action_dist = np.full((n_rounds, n_actions, 1), policy.epsilon / n_actions)\n",
    "        greedy_actions = np.zeros(n_rounds, dtype=int)\n",
    "        for i in range(n_rounds):\n",
    "            x_i = bandit_feedback[\"context\"][i].reshape(1, -1)\n",
    "            greedy_actions[i] = policy.select_action(context=x_i)\n",
    "            action_dist[i, greedy_actions[i], 0] += 1.0 - policy.epsilon\n",
    "        action_dists[name] = action_dist"
   ]
  },
  {
   "cell_type": "markdown",
   "id": "1430db92",
   "metadata": {},
   "source": [
    "### 7. New Reward Model for DM and DR"
   ]
  },
  {
   "cell_type": "code",
   "execution_count": null,
   "id": "25e33893",
   "metadata": {},
   "outputs": [],
   "source": [
    "regression_model = RegressionModel(\n",
    "    n_actions=n_actions,\n",
    "    len_list=1,\n",
    "    base_model=LogisticRegression(max_iter=1000, random_state=123),\n",
    ")\n",
    "\n",
    "estimated_rewards_by_reg_model = regression_model.fit_predict(\n",
    "    context=bandit_feedback[\"context\"],\n",
    "    action=bandit_feedback[\"action\"],\n",
    "    reward=bandit_feedback[\"reward\"],\n",
    "    position=bandit_feedback[\"position\"],\n",
    "    pscore=bandit_feedback[\"pscore\"],\n",
    "    n_folds=3,\n",
    "    random_state=123,\n",
    ")"
   ]
  },
  {
   "cell_type": "markdown",
   "id": "a2893ab7",
   "metadata": {},
   "source": [
    "### 8. New Off-Policy Evaluation"
   ]
  },
  {
   "cell_type": "code",
   "execution_count": null,
   "id": "10eea2c8",
   "metadata": {},
   "outputs": [],
   "source": [
    "sns.set(style=\"whitegrid\", font_scale=1.2)\n",
    "\n",
    "ope_estimators = [InverseProbabilityWeighting(), DirectMethod(), DoublyRobust()]\n",
    "ope = OffPolicyEvaluation(\n",
    "    bandit_feedback=bandit_feedback,\n",
    "    ope_estimators=ope_estimators,\n",
    ")\n",
    "\n",
    "results = []\n",
    "\n",
    "for policy_name in policies:\n",
    "    if action_dists.get(policy_name) is None:\n",
    "        continue\n",
    "\n",
    "    est_value, ci = ope.summarize_off_policy_estimates(\n",
    "        action_dist=action_dists[policy_name],\n",
    "        estimated_rewards_by_reg_model=estimated_rewards_by_reg_model,\n",
    "        n_bootstrap_samples=500,\n",
    "        random_state=42,\n",
    "    )\n",
    "\n",
    "    for estimator_name in est_value.index:\n",
    "        value = est_value.loc[estimator_name, \"estimated_policy_value\"]\n",
    "        lower = ci.loc[estimator_name, \"95.0% CI (lower)\"]\n",
    "        upper = ci.loc[estimator_name, \"95.0% CI (upper)\"]\n",
    "\n",
    "        results.append({\n",
    "            \"Policy\": policy_name,\n",
    "            \"Estimator\": estimator_name,\n",
    "            \"Estimated Value\": value,\n",
    "            \"CI Lower\": lower,\n",
    "            \"CI Upper\": upper,\n",
    "            \"CI Width\": upper - lower\n",
    "        })\n",
    "\n",
    "df_results = pd.DataFrame(results)"
   ]
  },
  {
   "cell_type": "markdown",
   "id": "90a2d2d5",
   "metadata": {},
   "source": [
    "#### **Relative Policy Values**"
   ]
  },
  {
   "cell_type": "code",
   "execution_count": null,
   "id": "98a3a0b5",
   "metadata": {},
   "outputs": [
    {
     "data": {
      "image/png": "[encoded data removed]",
      "text/plain": [
       "<Figure size 1200x600 with 1 Axes>"
      ]
     },
     "metadata": {},
     "output_type": "display_data"
    }
   ],
   "source": [
    "plt.figure(figsize=(12, 6))\n",
    "\n",
    "# Main barplot\n",
    "ax = sns.barplot(\n",
    "    data=df_results,\n",
    "    x=\"Policy\",\n",
    "    y=\"Estimated Value\",\n",
    "    hue=\"Estimator\",\n",
    "    palette=\"Set2\",\n",
    "    ci=None,\n",
    "    dodge=True,\n",
    ")\n",
    "\n",
    "# Extract hue order to match estimator mapping:\n",
    "hue_order = df_results[\"Estimator\"].unique().tolist()\n",
    "n_hue = len(hue_order)\n",
    "bar_width = 0.8 / n_hue  # total bar width split across estimators\n",
    "\n",
    "# Compute correct x-position and draw error bars manually:\n",
    "for i, row in df_results.iterrows():\n",
    "    policy_index = df_results[\"Policy\"].unique().tolist().index(row[\"Policy\"])\n",
    "    estimator_index = hue_order.index(row[\"Estimator\"])\n",
    "\n",
    "    # Calculate x-position:\n",
    "    x = policy_index - 0.4 + bar_width / 2 + estimator_index * bar_width\n",
    "    y = row[\"Estimated Value\"]\n",
    "    err_low = y - row[\"CI Lower\"]\n",
    "    err_up = row[\"CI Upper\"] - y\n",
    "\n",
    "    # Adding error bar:\n",
    "    ax.errorbar(\n",
    "        x=x,\n",
    "        y=y,\n",
    "        yerr=[[err_low], [err_up]],\n",
    "        fmt='none',\n",
    "        c='black',\n",
    "        capsize=4,\n",
    "        lw=1,\n",
    "    )\n",
    "\n",
    "# Full plot:\n",
    "plt.title(\"Estimated Policy Value by OPE Estimator (with 95% CI)\")\n",
    "plt.xticks(rotation=0, ha=\"center\")\n",
    "plt.ylabel(\"Estimated Policy Value (±95% CI)\")\n",
    "plt.tight_layout()\n",
    "plt.legend(title=\"Estimator\")\n",
    "plt.show()"
   ]
  },
  {
   "cell_type": "code",
   "execution_count": null,
   "id": "e2e0e612",
   "metadata": {},
   "outputs": [
    {
     "name": "stdout",
     "output_type": "stream",
     "text": [
      "Unique actions: [ 0  1  2  3  4  5  6  7  8  9 10 11 12 13 14 15 16 17 18 19 20 21 22 23\n",
      " 24 25 26 27 28 29 30 31 32 33 34 35 36 37 38 39 40 41 42 43 44 45 46 47\n",
      " 48 49 50 51 52 53 54 55 56 57 58 59 60 61 62 63 64 65 66 67 68 69 70 71\n",
      " 72 73 74 75 76 77 78 79]\n",
      "n_actions: 80\n",
      "Context shape: (1374327, 12)\n",
      "Mean reward: 0.0034693344451502445\n"
     ]
    }
   ],
   "source": [
    "print(\"Unique actions:\", np.unique(bandit_feedback[\"action\"]))\n",
    "print(\"n_actions:\", bandit_feedback[\"n_actions\"])\n",
    "print(\"Context shape:\", bandit_feedback[\"context\"].shape)\n",
    "print(\"Mean reward:\", bandit_feedback[\"reward\"].mean())"
   ]
  }
 ],
 "metadata": {
  "kernelspec": {
   "display_name": "obp-py39-env",
   "language": "python",
   "name": "python3"
  },
  "language_info": {
   "codemirror_mode": {
    "name": "ipython",
    "version": 3
   },
   "file_extension": ".py",
   "mimetype": "text/x-python",
   "name": "python",
   "nbconvert_exporter": "python",
   "pygments_lexer": "ipython3",
   "version": "3.9.18"
  }
 },
 "nbformat": 4,
 "nbformat_minor": 5
}
