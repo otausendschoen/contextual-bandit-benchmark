{
 "cells": [
  {
   "cell_type": "markdown",
   "id": "4a09ef3a",
   "metadata": {},
   "source": [
    "# %% [markdown]\n",
    "# # OPE Evaluation with Preprocessed Dataset\n",
    "# ---\n",
    "# This notebook evaluates several contextual bandit policies (Random, Thompson Sampling, and LinUCB with different ε-values) using your **preprocessed dataset**.\n",
    "# \n",
    "# The procedure follows the OBP framework and includes:\n",
    "# - (1) Loading preprocessed data\n",
    "# - (2) Policy definition and action distribution\n",
    "# - (3) Reward modeling\n",
    "# - (4) Off-Policy Evaluation (OPE) with IPW, DM, DR"
   ]
  },
  {
   "cell_type": "markdown",
   "id": "c28c8cd2",
   "metadata": {},
   "source": [
    "Import relevant Libraries:"
   ]
  },
  {
   "cell_type": "code",
   "execution_count": 7,
   "id": "26c969bf",
   "metadata": {},
   "outputs": [],
   "source": [
    "import numpy as np\n",
    "import numpy as np\n",
    "from sklearn.linear_model import LogisticRegression\n",
    "from obp.policy import BernoulliTS, LinUCB, LinEpsilonGreedy\n",
    "from obp.ope import (\n",
    "    OffPolicyEvaluation,\n",
    "    RegressionModel,\n",
    "    DirectMethod,\n",
    "    InverseProbabilityWeighting,\n",
    "    DoublyRobust,\n",
    ")"
   ]
  },
  {
   "cell_type": "markdown",
   "id": "6ca6006d",
   "metadata": {},
   "source": [
    "### 1 Load Preprocessed Data\n",
    "We create a dictionary `bandit_feedback` with:\n",
    "- context\n",
    "- action\n",
    "- reward\n",
    "- pscore\n",
    "- position (if list-wise, else fill with 0s)"
   ]
  },
  {
   "cell_type": "code",
   "execution_count": 8,
   "id": "17672b74",
   "metadata": {},
   "outputs": [
    {
     "name": "stdout",
     "output_type": "stream",
     "text": [
      "Context shape: (53988, 12)\n"
     ]
    }
   ],
   "source": [
    "bandit_feedback = dict(\n",
    "    n_actions=3,\n",
    "    context=np.load(\"processed_top3/context_reduced.npy\"),\n",
    "    action=np.load(\"processed_top3/actions.npy\"),\n",
    "    reward=np.load(\"processed_top3/rewards.npy\"),\n",
    "    pscore=np.load(\"processed_top3/pscores.npy\"),\n",
    ")\n",
    "bandit_feedback[\"position\"] = np.zeros_like(bandit_feedback[\"action\"])  # required dummy\n",
    "print(\"Context shape:\", bandit_feedback[\"context\"].shape)"
   ]
  },
  {
   "cell_type": "markdown",
   "id": "cd8bbaa8",
   "metadata": {},
   "source": [
    "### 2 Define Evaluation Policies"
   ]
  },
  {
   "cell_type": "code",
   "execution_count": 9,
   "id": "c73f7367",
   "metadata": {},
   "outputs": [],
   "source": [
    "n_rounds = len(bandit_feedback[\"action\"])\n",
    "n_actions = int(np.max(bandit_feedback[\"action\"]) + 1)\n",
    "dim_context = bandit_feedback[\"context\"].shape[1]\n",
    "\n",
    "policies = {\n",
    "    \"Random\": None,  # defined manually below\n",
    "    \"TS\": BernoulliTS(n_actions=n_actions, len_list=1, random_state=123),\n",
    "    \"LinUCB (\\u03b1=0.0)\": LinUCB(n_actions=n_actions, dim=dim_context, epsilon=0.0, random_state=1),\n",
    "    \"LinUCB (\\u03b1=0.1)\": LinUCB(n_actions=n_actions, dim=dim_context, epsilon=0.1, random_state=2),\n",
    "    \"LinUCB (\\u03b1=0.5)\": LinUCB(n_actions=n_actions, dim=dim_context, epsilon=0.5, random_state=3),\n",
    "    \"LinEG (\\u03B5=0.1)\": LinEpsilonGreedy(n_actions=n_actions, dim=dim_context, epsilon=0.1, random_state=4),\n",
    "}"
   ]
  },
  {
   "cell_type": "markdown",
   "id": "a46faa51",
   "metadata": {},
   "source": [
    "We compute action distributions:"
   ]
  },
  {
   "cell_type": "code",
   "execution_count": 10,
   "id": "3629cd3a",
   "metadata": {},
   "outputs": [],
   "source": [
    "action_dists = {}\n",
    "\n",
    "for name, policy in policies.items():\n",
    "    if name == \"Random\":\n",
    "        action_dists[name] = np.ones((n_rounds, n_actions, 1)) / n_actions\n",
    "    elif hasattr(policy, \"compute_batch_action_dist\"):\n",
    "        action_dists[name] = policy.compute_batch_action_dist(n_rounds=n_rounds, n_sim=10000)\n",
    "    else:\n",
    "        # For LinUCB and LinEpsilonGreedy: simulate batch manually\n",
    "        action_dist = np.full((n_rounds, n_actions, 1), policy.epsilon / n_actions)\n",
    "        greedy_actions = np.zeros(n_rounds, dtype=int)\n",
    "        for i in range(n_rounds):\n",
    "            x_i = bandit_feedback[\"context\"][i].reshape(1, -1)\n",
    "            greedy_actions[i] = policy.select_action(context=x_i)\n",
    "            action_dist[i, greedy_actions[i], 0] += 1.0 - policy.epsilon\n",
    "        action_dists[name] = action_dist"
   ]
  },
  {
   "cell_type": "markdown",
   "id": "9c81b9b4",
   "metadata": {},
   "source": [
    "### 3 Reward Model for DM and DR"
   ]
  },
  {
   "cell_type": "code",
   "execution_count": 11,
   "id": "79f04279",
   "metadata": {},
   "outputs": [],
   "source": [
    "regression_model = RegressionModel(\n",
    "    n_actions=n_actions,\n",
    "    len_list=1,\n",
    "    base_model=LogisticRegression(max_iter=1000, random_state=123),\n",
    ")\n",
    "\n",
    "estimated_rewards_by_reg_model = regression_model.fit_predict(\n",
    "    context=bandit_feedback[\"context\"],\n",
    "    action=bandit_feedback[\"action\"],\n",
    "    reward=bandit_feedback[\"reward\"],\n",
    "    position=bandit_feedback[\"position\"],\n",
    "    pscore=bandit_feedback[\"pscore\"],\n",
    "    n_folds=3,\n",
    "    random_state=123,\n",
    ")"
   ]
  },
  {
   "cell_type": "markdown",
   "id": "2db8a4a5",
   "metadata": {},
   "source": [
    "### 4. Off-Policy Evaluation"
   ]
  },
  {
   "cell_type": "code",
   "execution_count": 12,
   "id": "c4ed64a4",
   "metadata": {},
   "outputs": [
    {
     "name": "stdout",
     "output_type": "stream",
     "text": [
      "Evaluating: Random\n",
      "Evaluating: TS\n",
      "Evaluating: LinUCB (α=0.0)\n",
      "Evaluating: LinUCB (α=0.1)\n",
      "Evaluating: LinUCB (α=0.5)\n",
      "Evaluating: LinEG (ε=0.1)\n"
     ]
    }
   ],
   "source": [
    "ope = OffPolicyEvaluation(\n",
    "    bandit_feedback=bandit_feedback,\n",
    "    ope_estimators=[InverseProbabilityWeighting(), DirectMethod(), DoublyRobust()],\n",
    ")\n",
    "\n",
    "estimated_values = {}\n",
    "estimated_intervals = {}\n",
    "\n",
    "for name in policies:\n",
    "    print(f\"Evaluating: {name}\")\n",
    "    est_val, ci = ope.summarize_off_policy_estimates(\n",
    "        action_dist=action_dists[name],\n",
    "        estimated_rewards_by_reg_model=estimated_rewards_by_reg_model,\n",
    "        n_bootstrap_samples=1000,\n",
    "        random_state=42,\n",
    "    )\n",
    "    estimated_values[name] = est_val\n",
    "    estimated_intervals[name] = ci"
   ]
  },
  {
   "cell_type": "markdown",
   "id": "3102180a",
   "metadata": {},
   "source": [
    "#### **Relative Policy Values**"
   ]
  },
  {
   "cell_type": "code",
   "execution_count": null,
   "id": "ecd240af",
   "metadata": {},
   "outputs": [
    {
     "name": "stdout",
     "output_type": "stream",
     "text": [
      "Context shape: (53988, 12)\n",
      "Evaluating: Random\n",
      "Evaluating: TS\n",
      "Evaluating: LinUCB (ε=0.0)\n",
      "Evaluating: LinUCB (ε=0.1)\n",
      "Evaluating: LinUCB (ε=0.5)\n",
      "Evaluating: LinEG (ε=0.1)\n"
     ]
    },
    {
     "data": {
      "image/png": "[encoded data removed]",
      "text/plain": [
       "<Figure size 800x600 with 1 Axes>"
      ]
     },
     "metadata": {},
     "output_type": "display_data"
    }
   ],
   "source": [
    "\n",
    "ope.visualize_off_policy_estimates(\n",
    "    action_dist=action_dists[\"TS\"],\n",
    "    estimated_rewards_by_reg_model=estimated_rewards_by_reg_model,\n",
    "    is_relative=True,\n",
    "    n_bootstrap_samples=1000,\n",
    "    random_state=42,\n",
    ")\n",
    "\n",
    "# You can repeat the above plot for each policy by changing action_dist\n"
   ]
  }
 ],
 "metadata": {
  "kernelspec": {
   "display_name": "obp-py39-env",
   "language": "python",
   "name": "python3"
  },
  "language_info": {
   "codemirror_mode": {
    "name": "ipython",
    "version": 3
   },
   "file_extension": ".py",
   "mimetype": "text/x-python",
   "name": "python",
   "nbconvert_exporter": "python",
   "pygments_lexer": "ipython3",
   "version": "3.9.18"
  }
 },
 "nbformat": 4,
 "nbformat_minor": 5
}
