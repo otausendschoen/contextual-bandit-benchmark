{
 "cells": [
  {
   "cell_type": "markdown",
   "id": "c4211aeb",
   "metadata": {},
   "source": [
    "# Debugging Differences"
   ]
  },
  {
   "cell_type": "code",
   "execution_count": 1,
   "id": "db6ae0e9",
   "metadata": {},
   "outputs": [],
   "source": [
    "import numpy as np\n",
    "import matplotlib.pyplot as plt\n",
    "from sklearn.linear_model import BayesianRidge\n",
    "from sklearn.ensemble import RandomForestRegressor\n",
    "from sklearn.preprocessing import OneHotEncoder\n",
    "from collections import defaultdict\n",
    "import random\n",
    "import os\n",
    "from linucb import linucb_all"
   ]
  },
  {
   "cell_type": "code",
   "execution_count": null,
   "id": "df893970",
   "metadata": {},
   "outputs": [],
   "source": [
    "np.random.seed(42)\n",
    "random.seed(42)"
   ]
  },
  {
   "cell_type": "code",
   "execution_count": 2,
   "id": "5af288fb",
   "metadata": {},
   "outputs": [
    {
     "name": "stdout",
     "output_type": "stream",
     "text": [
      "Context shape: (53988, 12), #Arms: 3\n"
     ]
    }
   ],
   "source": [
    "X_context = np.load(\"processed_top3/context_reduced.npy\")\n",
    "actions = np.load(\"processed_top3/actions.npy\")\n",
    "rewards = np.load(\"processed_top3/rewards.npy\")\n",
    "pscores = np.load(\"processed_top3/pscores.npy\")\n",
    "meta = np.genfromtxt(\"processed_top3/meta.txt\", skip_header=1)\n",
    "\n",
    "n_rounds, context_dim = X_context.shape\n",
    "n_arms = len(np.unique(actions))\n",
    "\n",
    "print(f\"Context shape: {X_context.shape}, #Arms: {n_arms}\")"
   ]
  },
  {
   "cell_type": "code",
   "execution_count": 3,
   "id": "1fd81c07",
   "metadata": {},
   "outputs": [
    {
     "name": "stdout",
     "output_type": "stream",
     "text": [
      "Fixed DR reward mean for random policy: 0.06645223966291249\n"
     ]
    }
   ],
   "source": [
    "from sklearn.ensemble import RandomForestRegressor\n",
    "from sklearn.preprocessing import OneHotEncoder\n",
    "import numpy as np\n",
    "\n",
    "# Fix seed, logging data\n",
    "np.random.seed(123)\n",
    "rng = np.random.default_rng(123)\n",
    "a_logged = actions\n",
    "r_logged = rewards\n",
    "X = X_context\n",
    "p = pscores\n",
    "\n",
    "# One-hot encode\n",
    "onehot = OneHotEncoder(sparse_output=False)\n",
    "a_logged_1hot = onehot.fit_transform(a_logged.reshape(-1, 1))\n",
    "X_train = np.hstack([X, a_logged_1hot])\n",
    "\n",
    "# Train reward model with fixed seed\n",
    "reward_model = RandomForestRegressor(n_estimators=100, random_state=123)\n",
    "reward_model.fit(X_train, r_logged)\n",
    "\n",
    "# Simulated random policy (fixed random actions)\n",
    "a_sim = rng.integers(0, n_arms, size=len(X))\n",
    "a_sim_1hot = onehot.transform(a_sim.reshape(-1, 1))\n",
    "X_sim = np.hstack([X, a_sim_1hot])\n",
    "r_hat_sim = reward_model.predict(X_sim)\n",
    "\n",
    "matches = a_sim == a_logged\n",
    "correction = np.zeros_like(r_logged)\n",
    "correction[matches] = (r_logged[matches] - r_hat_sim[matches]) / p[matches]\n",
    "dr_sim = r_hat_sim + correction\n",
    "\n",
    "print(\"Fixed DR reward mean for random policy:\", dr_sim.mean())"
   ]
  },
  {
   "cell_type": "code",
   "execution_count": 2,
   "id": "fc42a49a",
   "metadata": {},
   "outputs": [],
   "source": [
    "context = np.load(\"processed_top3/context_reduced.npy\")\n",
    "action = np.load(\"processed_top3/actions.npy\")\n",
    "reward = np.load(\"processed_top3/rewards.npy\")\n",
    "pscore = np.load(\"processed_top3/pscores.npy\")"
   ]
  },
  {
   "cell_type": "code",
   "execution_count": 8,
   "id": "6ce376df",
   "metadata": {},
   "outputs": [],
   "source": [
    "n_actions = 3\n",
    "context_dim = context.shape[1]\n",
    "n_arms = n_actions"
   ]
  },
  {
   "cell_type": "code",
   "execution_count": 9,
   "id": "c98ff307",
   "metadata": {},
   "outputs": [],
   "source": [
    "X_context = context \n",
    "a_logged = np.array(action)\n",
    "r_logged = np.array(reward)\n",
    "pscore = np.array(pscore)\n",
    "#a_target = np.array(results[\"chosen_actions\"]) "
   ]
  },
  {
   "cell_type": "code",
   "execution_count": 10,
   "id": "a01cba5f",
   "metadata": {},
   "outputs": [
    {
     "name": "stdout",
     "output_type": "stream",
     "text": [
      "Fixed DR reward mean for random policy: 0.06645223966291249\n"
     ]
    }
   ],
   "source": [
    "from sklearn.ensemble import RandomForestRegressor\n",
    "from sklearn.preprocessing import OneHotEncoder\n",
    "import numpy as np\n",
    "\n",
    "# Fix seed, logging data\n",
    "np.random.seed(123)\n",
    "rng = np.random.default_rng(123)\n",
    "a_logged = action\n",
    "r_logged = reward\n",
    "X = X_context\n",
    "p = pscore\n",
    "\n",
    "# One-hot encode\n",
    "onehot = OneHotEncoder(sparse_output=False)\n",
    "a_logged_1hot = onehot.fit_transform(a_logged.reshape(-1, 1))\n",
    "X_train = np.hstack([X, a_logged_1hot])\n",
    "\n",
    "# Train reward model with fixed seed\n",
    "reward_model = RandomForestRegressor(n_estimators=100, random_state=123)\n",
    "reward_model.fit(X_train, r_logged)\n",
    "\n",
    "# Simulated random policy (fixed random actions)\n",
    "a_sim = rng.integers(0, n_arms, size=len(X))\n",
    "a_sim_1hot = onehot.transform(a_sim.reshape(-1, 1))\n",
    "X_sim = np.hstack([X, a_sim_1hot])\n",
    "r_hat_sim = reward_model.predict(X_sim)\n",
    "\n",
    "matches = a_sim == a_logged\n",
    "correction = np.zeros_like(r_logged)\n",
    "correction[matches] = (r_logged[matches] - r_hat_sim[matches]) / p[matches]\n",
    "dr_sim = r_hat_sim + correction\n",
    "\n",
    "print(\"Fixed DR reward mean for random policy:\", dr_sim.mean())"
   ]
  }
 ],
 "metadata": {
  "kernelspec": {
   "display_name": ".venv",
   "language": "python",
   "name": "python3"
  },
  "language_info": {
   "codemirror_mode": {
    "name": "ipython",
    "version": 3
   },
   "file_extension": ".py",
   "mimetype": "text/x-python",
   "name": "python",
   "nbconvert_exporter": "python",
   "pygments_lexer": "ipython3",
   "version": "3.12.2"
  }
 },
 "nbformat": 4,
 "nbformat_minor": 5
}
