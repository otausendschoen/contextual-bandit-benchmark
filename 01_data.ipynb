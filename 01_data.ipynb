{
 "cells": [
  {
   "cell_type": "markdown",
   "metadata": {},
   "source": [
    "![bse_logo_textminingcourse](https://bse.eu/sites/default/files/bse_logo_small.png)\n",
    "\n",
    "# *Final Project: Contextual Bandits - Data Exploration*\n",
    "\n",
    "## Reinforcement Learning\n",
    "\n",
    "#### Authors: **Timothy Cassel, Marvin Ernst, Oliver Tausendschön**\n",
    "\n",
    "Date: July 2, 2025\n",
    "\n",
    "Instructors: *Hamish Flynn and Vincent Adam*\n",
    "\n",
    "In this notebook, we explore the **Open Bandit Dataset (OBD)** — a real-world logged bandit dataset from the ZOZOTOWN fashion e-commerce platform. The dataset contains interaction-level feedback under two A/B tested recommendation policies: uniform random and Thompson Sampling (BTS).\n",
    "\n",
    "We focus on the **raw full dataset** under the **random policy**, and perform an in-depth analysis of:\n",
    "\n",
    "- The distribution and coverage of actions (fashion items)\n",
    "- The sparsity and structure of reward signals (clicks)\n",
    "- The feature space of user context vectors\n",
    "- Implications for offline bandit evaluation and contextual policy learning\n",
    "\n",
    "This exploration lays the empirical foundation for building, validating, and benchmarking contextual bandit algorithms in the final project.\n",
    "\n",
    "---\n",
    "\n",
    "## Dataset Summary\n",
    "\n",
    "- **Platform**:  \n",
    "  ZOZOTOWN — Japan’s largest fashion e-commerce platform\n",
    "\n",
    "- **Logged Policy**:  \n",
    "  Uniform random selection of 3 items per user, from a pool of 80 candidate items\n",
    "\n",
    "- **Action Space**:  \n",
    "  $$ A = \\{0, 1, \\dots, 79\\} $$\n",
    "\n",
    "- **Observations**:  \n",
    "  Each data point records a single item recommendation shown to a user and includes:\n",
    "  - A hashed binary **context vector** (user features)\n",
    "  - The **action** taken (item shown)\n",
    "  - A binary **reward** (click/no click)\n",
    "  - The **propensity score** (logged policy’s probability of selecting the action)\n",
    "\n",
    "- **Key Challenges**:\n",
    "  - Extremely sparse rewards (click-through rate ≈ 0.35%)\n",
    "  - One action per interaction is logged (partial feedback)\n",
    "  - Context features are sparse, categorical, and often co-activated in patterns\n",
    "\n",
    "---\n",
    "\n",
    "*We begin by loading and exploring the dataset to understand its structure, sparsity, and modeling implications.*"
   ]
  },
  {
   "cell_type": "markdown",
   "metadata": {},
   "source": [
    "Functions:"
   ]
  },
  {
   "cell_type": "code",
   "execution_count": null,
   "metadata": {},
   "outputs": [],
   "source": [
    "from load_opb import load_obp_dataset, preview_dataset\n",
    "import pandas as pd \n",
    "import numpy as np \n",
    "import matplotlib.pyplot as plt\n",
    "import seaborn as sns\n",
    "from sklearn.decomposition import PCA"
   ]
  },
  {
   "cell_type": "markdown",
   "metadata": {},
   "source": [
    "**We load the raw logged interactions.**\n",
    "\n",
    "Logged interactions:"
   ]
  },
  {
   "cell_type": "code",
   "execution_count": 4,
   "metadata": {},
   "outputs": [],
   "source": [
    "log_df = pd.read_csv(\"open_bandit_dataset/random/all/all.csv\")"
   ]
  },
  {
   "cell_type": "markdown",
   "metadata": {},
   "source": [
    "Item features:"
   ]
  },
  {
   "cell_type": "code",
   "execution_count": null,
   "metadata": {},
   "outputs": [],
   "source": [
    "item_df = pd.read_csv(\"open_bandit_dataset/random/all/item_context.csv\")"
   ]
  },
  {
   "cell_type": "markdown",
   "metadata": {},
   "source": [
    "### Raw Data Structure"
   ]
  },
  {
   "cell_type": "code",
   "execution_count": 5,
   "metadata": {},
   "outputs": [
    {
     "name": "stdout",
     "output_type": "stream",
     "text": [
      "   Unnamed: 0                         timestamp  item_id  position  click  \\\n",
      "0           0  2019-11-24 00:00:00.007365+00:00       21         1      0   \n",
      "1           1  2019-11-24 00:00:00.015668+00:00       43         2      0   \n",
      "2           2  2019-11-24 00:00:00.016438+00:00       62         3      0   \n",
      "3           3  2019-11-24 00:00:01.856987+00:00        8         2      0   \n",
      "4           4  2019-11-24 00:00:01.857185+00:00       45         1      0   \n",
      "\n",
      "   propensity_score                    user_feature_0  \\\n",
      "0            0.0125  574464659df0fc5bac579eff2b1fff99   \n",
      "1            0.0125  574464659df0fc5bac579eff2b1fff99   \n",
      "2            0.0125  574464659df0fc5bac579eff2b1fff99   \n",
      "3            0.0125  81ce123cbb5bd8ce818f60fb3586bba5   \n",
      "4            0.0125  81ce123cbb5bd8ce818f60fb3586bba5   \n",
      "\n",
      "                     user_feature_1                    user_feature_2  \\\n",
      "0  a05b66683c9a38a761122e14ef9a0f6c  3a845d98884c222862996aadd75584c5   \n",
      "1  a05b66683c9a38a761122e14ef9a0f6c  3a845d98884c222862996aadd75584c5   \n",
      "2  a05b66683c9a38a761122e14ef9a0f6c  3a845d98884c222862996aadd75584c5   \n",
      "3  03a5648a76832f83c859d46bc06cb64a  2723d2eb8bba04e0362098011fa3997b   \n",
      "4  03a5648a76832f83c859d46bc06cb64a  2723d2eb8bba04e0362098011fa3997b   \n",
      "\n",
      "                     user_feature_3  ...  user-item_affinity_70  \\\n",
      "0  397559c512c5db37e09011ba61bcc333  ...                    0.0   \n",
      "1  397559c512c5db37e09011ba61bcc333  ...                    0.0   \n",
      "2  397559c512c5db37e09011ba61bcc333  ...                    0.0   \n",
      "3  c39b0c7dd5d4eb9a18e7db6ba2f258f8  ...                    0.0   \n",
      "4  c39b0c7dd5d4eb9a18e7db6ba2f258f8  ...                    0.0   \n",
      "\n",
      "   user-item_affinity_71  user-item_affinity_72  user-item_affinity_73  \\\n",
      "0                    0.0                    0.0                    0.0   \n",
      "1                    0.0                    0.0                    0.0   \n",
      "2                    0.0                    0.0                    0.0   \n",
      "3                    0.0                    0.0                    0.0   \n",
      "4                    0.0                    0.0                    0.0   \n",
      "\n",
      "   user-item_affinity_74  user-item_affinity_75  user-item_affinity_76  \\\n",
      "0                    0.0                    0.0                    0.0   \n",
      "1                    0.0                    0.0                    0.0   \n",
      "2                    0.0                    0.0                    0.0   \n",
      "3                    0.0                    0.0                    0.0   \n",
      "4                    0.0                    0.0                    0.0   \n",
      "\n",
      "   user-item_affinity_77  user-item_affinity_78  user-item_affinity_79  \n",
      "0                    0.0                    0.0                    0.0  \n",
      "1                    0.0                    0.0                    0.0  \n",
      "2                    0.0                    0.0                    0.0  \n",
      "3                    0.0                    0.0                    0.0  \n",
      "4                    0.0                    0.0                    0.0  \n",
      "\n",
      "[5 rows x 90 columns]\n"
     ]
    }
   ],
   "source": [
    "print(log_df.head())"
   ]
  },
  {
   "cell_type": "code",
   "execution_count": 6,
   "metadata": {},
   "outputs": [
    {
     "name": "stdout",
     "output_type": "stream",
     "text": [
      "Index(['Unnamed: 0', 'timestamp', 'item_id', 'position', 'click',\n",
      "       'propensity_score', 'user_feature_0', 'user_feature_1',\n",
      "       'user_feature_2', 'user_feature_3', 'user-item_affinity_0',\n",
      "       'user-item_affinity_1', 'user-item_affinity_2', 'user-item_affinity_3',\n",
      "       'user-item_affinity_4', 'user-item_affinity_5', 'user-item_affinity_6',\n",
      "       'user-item_affinity_7', 'user-item_affinity_8', 'user-item_affinity_9',\n",
      "       'user-item_affinity_10', 'user-item_affinity_11',\n",
      "       'user-item_affinity_12', 'user-item_affinity_13',\n",
      "       'user-item_affinity_14', 'user-item_affinity_15',\n",
      "       'user-item_affinity_16', 'user-item_affinity_17',\n",
      "       'user-item_affinity_18', 'user-item_affinity_19',\n",
      "       'user-item_affinity_20', 'user-item_affinity_21',\n",
      "       'user-item_affinity_22', 'user-item_affinity_23',\n",
      "       'user-item_affinity_24', 'user-item_affinity_25',\n",
      "       'user-item_affinity_26', 'user-item_affinity_27',\n",
      "       'user-item_affinity_28', 'user-item_affinity_29',\n",
      "       'user-item_affinity_30', 'user-item_affinity_31',\n",
      "       'user-item_affinity_32', 'user-item_affinity_33',\n",
      "       'user-item_affinity_34', 'user-item_affinity_35',\n",
      "       'user-item_affinity_36', 'user-item_affinity_37',\n",
      "       'user-item_affinity_38', 'user-item_affinity_39',\n",
      "       'user-item_affinity_40', 'user-item_affinity_41',\n",
      "       'user-item_affinity_42', 'user-item_affinity_43',\n",
      "       'user-item_affinity_44', 'user-item_affinity_45',\n",
      "       'user-item_affinity_46', 'user-item_affinity_47',\n",
      "       'user-item_affinity_48', 'user-item_affinity_49',\n",
      "       'user-item_affinity_50', 'user-item_affinity_51',\n",
      "       'user-item_affinity_52', 'user-item_affinity_53',\n",
      "       'user-item_affinity_54', 'user-item_affinity_55',\n",
      "       'user-item_affinity_56', 'user-item_affinity_57',\n",
      "       'user-item_affinity_58', 'user-item_affinity_59',\n",
      "       'user-item_affinity_60', 'user-item_affinity_61',\n",
      "       'user-item_affinity_62', 'user-item_affinity_63',\n",
      "       'user-item_affinity_64', 'user-item_affinity_65',\n",
      "       'user-item_affinity_66', 'user-item_affinity_67',\n",
      "       'user-item_affinity_68', 'user-item_affinity_69',\n",
      "       'user-item_affinity_70', 'user-item_affinity_71',\n",
      "       'user-item_affinity_72', 'user-item_affinity_73',\n",
      "       'user-item_affinity_74', 'user-item_affinity_75',\n",
      "       'user-item_affinity_76', 'user-item_affinity_77',\n",
      "       'user-item_affinity_78', 'user-item_affinity_79'],\n",
      "      dtype='object')\n"
     ]
    }
   ],
   "source": [
    "print(log_df.columns)"
   ]
  },
  {
   "cell_type": "code",
   "execution_count": 7,
   "metadata": {},
   "outputs": [
    {
     "name": "stdout",
     "output_type": "stream",
     "text": [
      "(1374327, 90)\n"
     ]
    }
   ],
   "source": [
    "print(log_df.shape)"
   ]
  },
  {
   "cell_type": "markdown",
   "metadata": {},
   "source": [
    "#### Data Cleaning and Prep\n",
    "\n",
    "Drop index column:"
   ]
  },
  {
   "cell_type": "code",
   "execution_count": 8,
   "metadata": {},
   "outputs": [],
   "source": [
    "log_df = log_df.drop(columns=[\"Unnamed: 0\"])"
   ]
  },
  {
   "cell_type": "markdown",
   "metadata": {},
   "source": [
    "Convert timestamp to datetime:"
   ]
  },
  {
   "cell_type": "code",
   "execution_count": null,
   "metadata": {},
   "outputs": [],
   "source": [
    "log_df['timestamp'] = pd.to_datetime(log_df['timestamp'])"
   ]
  },
  {
   "cell_type": "markdown",
   "metadata": {},
   "source": [
    "Sparsity of clicks:"
   ]
  },
  {
   "cell_type": "code",
   "execution_count": 10,
   "metadata": {},
   "outputs": [
    {
     "name": "stdout",
     "output_type": "stream",
     "text": [
      "Click-Through Rate: 0.3469%\n"
     ]
    }
   ],
   "source": [
    "click_rate = log_df['click'].mean()\n",
    "print(f\"Click-Through Rate: {click_rate:.4%}\")"
   ]
  },
  {
   "cell_type": "markdown",
   "metadata": {},
   "source": [
    "The overall click-through rate in the dataset is approximately **0.35%**, meaning that fewer than 4 out of every 1,000 recommended items were clicked. This level of reward sparsity is typical in real-world recommendation systems and highlights the challenge of learning from logged bandit data. It also emphasizes that we need robust off-policy evaluation (OPE) methods and careful model design to extract meaningful patterns from limited positive feedback."
   ]
  },
  {
   "cell_type": "markdown",
   "metadata": {},
   "source": [
    "### **Preprocessed Data**\n",
    "\n",
    "We observes that the raw dataset includes a `timestamp` field, which indicates when each interaction occurred. However, in our experiments using the OBP-structured API (`use_raw_csv=False`), we do not make use of temporal information. Instead, we treat each interaction independently, as is standard in contextual bandit settings. Incorporating time-aware modeling could be an interesting direction for future work, particularly in the context of non-stationary or sequential bandits.\n",
    "\n",
    "We use the entire dataset:"
   ]
  },
  {
   "cell_type": "code",
   "execution_count": 2,
   "metadata": {},
   "outputs": [
    {
     "name": "stdout",
     "output_type": "stream",
     "text": [
      "Loaded OBP dataset: 1374327 rounds, 80 actions\n",
      "Working with OBP-style dict\n",
      "dict_keys(['context', 'action', 'reward', 'pscore', 'n_actions'])\n"
     ]
    },
    {
     "name": "stderr",
     "output_type": "stream",
     "text": [
      "/Users/Admin/Documents/Git/BSE/RL/contextual-bandit-benchmark/.venv/lib/python3.12/site-packages/obp/dataset/real.py:192: FutureWarning: In a future version of pandas all arguments of DataFrame.drop except for the argument 'labels' will be keyword-only.\n",
      "  item_feature_cat = self.item_context.drop(\"item_feature_0\", 1).apply(\n",
      "/Users/Admin/Documents/Git/BSE/RL/contextual-bandit-benchmark/.venv/lib/python3.12/site-packages/obp/dataset/real.py:195: FutureWarning: In a future version of pandas all arguments of concat except for the argument 'objs' will be keyword-only.\n",
      "  self.action_context = pd.concat([item_feature_cat, item_feature_0], 1).values\n"
     ]
    }
   ],
   "source": [
    "IS_RAW = False\n",
    "\n",
    "data = load_obp_dataset(\n",
    "    campaign=\"all\",\n",
    "    behavior_policy=\"random\",\n",
    "    n_rounds=None, \n",
    "    use_raw_csv=IS_RAW\n",
    ")\n",
    "\n",
    "if IS_RAW:\n",
    "    print(\"Working with raw dataframe\")\n",
    "    print(data.columns)\n",
    "else:\n",
    "    print(\"Working with OBP-style dict\")\n",
    "    print(data.keys())"
   ]
  },
  {
   "cell_type": "markdown",
   "metadata": {},
   "source": [
    "Now `data` is a dict with keys: context, action, reward, pscore, n_actions."
   ]
  },
  {
   "cell_type": "code",
   "execution_count": null,
   "metadata": {},
   "outputs": [
    {
     "name": "stdout",
     "output_type": "stream",
     "text": [
      "(1374327, 26)\n",
      "0.0034693344451502445\n"
     ]
    }
   ],
   "source": [
    "print(data[\"context\"].shape)\n",
    "print(data[\"reward\"].mean())"
   ]
  },
  {
   "cell_type": "markdown",
   "metadata": {},
   "source": [
    "**Preview the data structure:**"
   ]
  },
  {
   "cell_type": "code",
   "execution_count": 4,
   "metadata": {},
   "outputs": [
    {
     "name": "stdout",
     "output_type": "stream",
     "text": [
      "Dataset loaded!\n",
      "Context shape: (1374327, 26)\n",
      "Action shape: (1374327,)\n",
      "Reward shape: (1374327,)\n",
      "Propensity score shape: (1374327,)\n",
      "Number of actions: 80\n",
      "\n",
      "First entries:\n",
      "context [1 0 0 0 0 0 1 0 0 1 0 0 0 0 0 0 0 0 0 0 1 0 0 0 0 0]\n",
      "action 21\n",
      "reward 0\n",
      "propensity 0.0125\n"
     ]
    }
   ],
   "source": [
    "preview_dataset(data)"
   ]
  },
  {
   "cell_type": "markdown",
   "metadata": {},
   "source": [
    "We work with a simplified dictionary structure loaded from the Open Bandit Dataset:\n",
    "\n",
    "- **`context`**: A 2D NumPy array representing the user or situational features at the time of the recommendation. Each context vector is binary and consists of 20 features. These features are anonymized and hashed, typically indicating user characteristics (e.g., age group, gender, click history).\n",
    "\n",
    "- **`action`**: A 1D array indicating the index of the fashion item that was shown to the user. There are 80 possible items (arms), indexed from 0 to 79.\n",
    "\n",
    "- **`reward`**: A binary variable that captures the outcome of the recommendation. A value of 1 indicates that the user clicked on the recommended item, while 0 indicates no click. The reward distribution is highly sparse, reflecting typical real-world click-through rates.\n",
    "\n",
    "- **`pscore`**: The propensity score, i.e., the probability that the behavior policy selected the given action under the observed context. This is essential for off-policy evaluation (OPE) methods such as Inverse Probability Weighting.\n",
    "\n",
    "- **`n_actions`**: The total number of available actions (fashion items), which is 80 in this dataset.\n",
    "\n",
    "This structure allows us to simulate logged bandit feedback and apply offline learning and evaluation methods for contextual bandits.\n",
    "\n",
    "### Reward\n",
    "\n",
    "Reward distribution:"
   ]
  },
  {
   "cell_type": "code",
   "execution_count": 5,
   "metadata": {},
   "outputs": [
    {
     "name": "stdout",
     "output_type": "stream",
     "text": [
      "Unique values: [0 1]\n",
      "Counts: [1369559    4768]\n",
      "0    99.65 %\n",
      "1     0.35 %\n",
      "dtype: object\n"
     ]
    }
   ],
   "source": [
    "rewards = data['reward']\n",
    "unique_values, counts = np.unique(rewards, return_counts=True)\n",
    "print(\"Unique values:\", unique_values)\n",
    "print(\"Counts:\", counts)\n",
    "reward_counts = pd.Series(data['reward']).value_counts(normalize=True)\n",
    "print((reward_counts * 100).round(2).astype(str) + \" %\")"
   ]
  },
  {
   "cell_type": "markdown",
   "metadata": {},
   "source": [
    "As seen above, rewards are very sparse.\n",
    "\n",
    "### Actions\n",
    "\n",
    "We check out the distribution of actions:"
   ]
  },
  {
   "cell_type": "code",
   "execution_count": null,
   "metadata": {},
   "outputs": [
    {
     "name": "stdout",
     "output_type": "stream",
     "text": [
      "Unique values - actions: [ 0  1  2  3  4  5  6  7  8  9 10 11 12 13 14 15 16 17 18 19 20 21 22 23\n",
      " 24 25 26 27 28 29 30 31 32 33 34 35 36 37 38 39 40 41 42 43 44 45 46 47\n",
      " 48 49 50 51 52 53 54 55 56 57 58 59 60 61 62 63 64 65 66 67 68 69 70 71\n",
      " 72 73 74 75 76 77 78 79]\n",
      "Counts: [17657 17616 17299 16729 17428 16594 17555 17516 17062 17651 16950 16730\n",
      " 17632 16928 17239 17482 17495 16702 18184 17113 17564 17195 16986 16836\n",
      " 17285 17135 17205 17039 16395 17224 17538 17781 17158 17733 17185 17335\n",
      " 16551 17788 16978 17396 18016 17207 17287 17397 16908 17339 17296 17159\n",
      " 16576 17173 16639 17102 17125 16733 16330 16552 17700 17498 16913 16593\n",
      " 16325 17337 17114 17753 16976 17389 17601 17043 17380 17394 17564 17256\n",
      " 17446 16712 17147 16594 16658 17597 16492 17137]\n"
     ]
    },
    {
     "data": {
      "image/png": "[encoded data removed]",
      "text/plain": [
       "<Figure size 640x480 with 1 Axes>"
      ]
     },
     "metadata": {},
     "output_type": "display_data"
    }
   ],
   "source": [
    "actions = data['action']\n",
    "unique_values, counts = np.unique(actions, return_counts=True)\n",
    "print(\"Unique values - actions:\", unique_values)\n",
    "print(\"Counts:\", counts)\n",
    "plt.hist(actions, bins=80)\n",
    "plt.show()"
   ]
  },
  {
   "cell_type": "markdown",
   "metadata": {},
   "source": [
    "Actions are shown in roughly equal proportions, but we can look at the most popular and least popular ones too:"
   ]
  },
  {
   "cell_type": "code",
   "execution_count": 7,
   "metadata": {},
   "outputs": [
    {
     "name": "stdout",
     "output_type": "stream",
     "text": [
      "Number of unique actions: 80\n",
      "Most popular action shown 18184 times\n",
      "Least popular action shown 16325 times\n"
     ]
    }
   ],
   "source": [
    "unique_actions, action_counts = np.unique(data['action'], return_counts=True)\n",
    "print(f\"Number of unique actions: {len(unique_actions)}\")\n",
    "print(f\"Most popular action shown {action_counts.max()} times\")\n",
    "print(f\"Least popular action shown {action_counts.min()} times\")"
   ]
  },
  {
   "cell_type": "markdown",
   "metadata": {},
   "source": [
    "Showwing which actions got rewards, i.e., whether all actions have been clicked:"
   ]
  },
  {
   "cell_type": "code",
   "execution_count": 8,
   "metadata": {},
   "outputs": [
    {
     "name": "stdout",
     "output_type": "stream",
     "text": [
      "Actions that got clicks: [ 0  1  2  3  4  5  6  7  8  9 10 11 12 13 14 15 16 17 18 19 20 21 22 23\n",
      " 24 25 26 27 28 29 30 31 32 33 34 35 36 37 38 39 40 41 42 43 44 45 46 47\n",
      " 48 49 50 51 52 53 54 55 56 57 58 59 60 61 62 63 64 65 66 67 68 69 70 71\n",
      " 72 73 74 75 76 77 78 79]\n"
     ]
    }
   ],
   "source": [
    "rewarded_actions = data['action'][data['reward'] == 1]\n",
    "print(f\"Actions that got clicks: {np.unique(rewarded_actions)}\")"
   ]
  },
  {
   "cell_type": "markdown",
   "metadata": {},
   "source": [
    "Success rate by action (for actions that got clicks):"
   ]
  },
  {
   "cell_type": "code",
   "execution_count": 10,
   "metadata": {},
   "outputs": [
    {
     "name": "stdout",
     "output_type": "stream",
     "text": [
      "Action 0: 0.003 click rate (48 clicks out of 17657 times shown)\n",
      "Action 1: 0.002 click rate (39 clicks out of 17616 times shown)\n",
      "Action 2: 0.001 click rate (22 clicks out of 17299 times shown)\n",
      "Action 3: 0.003 click rate (43 clicks out of 16729 times shown)\n",
      "Action 4: 0.001 click rate (20 clicks out of 17428 times shown)\n",
      "Action 5: 0.002 click rate (41 clicks out of 16594 times shown)\n",
      "Action 6: 0.005 click rate (80 clicks out of 17555 times shown)\n",
      "Action 7: 0.005 click rate (92 clicks out of 17516 times shown)\n",
      "Action 8: 0.004 click rate (75 clicks out of 17062 times shown)\n",
      "Action 9: 0.003 click rate (45 clicks out of 17651 times shown)\n",
      "Action 10: 0.002 click rate (26 clicks out of 16950 times shown)\n",
      "Action 11: 0.003 click rate (57 clicks out of 16730 times shown)\n",
      "Action 12: 0.002 click rate (31 clicks out of 17632 times shown)\n",
      "Action 13: 0.002 click rate (28 clicks out of 16928 times shown)\n",
      "Action 14: 0.002 click rate (30 clicks out of 17239 times shown)\n",
      "Action 15: 0.002 click rate (37 clicks out of 17482 times shown)\n",
      "Action 16: 0.003 click rate (51 clicks out of 17495 times shown)\n",
      "Action 17: 0.001 click rate (24 clicks out of 16702 times shown)\n",
      "Action 18: 0.004 click rate (74 clicks out of 18184 times shown)\n",
      "Action 19: 0.002 click rate (40 clicks out of 17113 times shown)\n",
      "Action 20: 0.001 click rate (25 clicks out of 17564 times shown)\n",
      "Action 21: 0.003 click rate (44 clicks out of 17195 times shown)\n",
      "Action 22: 0.003 click rate (57 clicks out of 16986 times shown)\n",
      "Action 23: 0.002 click rate (29 clicks out of 16836 times shown)\n",
      "Action 24: 0.002 click rate (43 clicks out of 17285 times shown)\n",
      "Action 25: 0.002 click rate (33 clicks out of 17135 times shown)\n",
      "Action 26: 0.002 click rate (40 clicks out of 17205 times shown)\n",
      "Action 27: 0.001 click rate (25 clicks out of 17039 times shown)\n",
      "Action 28: 0.002 click rate (36 clicks out of 16395 times shown)\n",
      "Action 29: 0.002 click rate (40 clicks out of 17224 times shown)\n",
      "Action 30: 0.004 click rate (63 clicks out of 17538 times shown)\n",
      "Action 31: 0.004 click rate (67 clicks out of 17781 times shown)\n",
      "Action 32: 0.003 click rate (58 clicks out of 17158 times shown)\n",
      "Action 33: 0.003 click rate (46 clicks out of 17733 times shown)\n",
      "Action 34: 0.006 click rate (103 clicks out of 17185 times shown)\n",
      "Action 35: 0.007 click rate (129 clicks out of 17335 times shown)\n",
      "Action 36: 0.004 click rate (63 clicks out of 16551 times shown)\n",
      "Action 37: 0.005 click rate (82 clicks out of 17788 times shown)\n",
      "Action 38: 0.005 click rate (91 clicks out of 16978 times shown)\n",
      "Action 39: 0.007 click rate (123 clicks out of 17396 times shown)\n",
      "Action 40: 0.002 click rate (29 clicks out of 18016 times shown)\n",
      "Action 41: 0.005 click rate (94 clicks out of 17207 times shown)\n",
      "Action 42: 0.005 click rate (87 clicks out of 17287 times shown)\n",
      "Action 43: 0.006 click rate (96 clicks out of 17397 times shown)\n",
      "Action 44: 0.004 click rate (61 clicks out of 16908 times shown)\n",
      "Action 45: 0.005 click rate (81 clicks out of 17339 times shown)\n",
      "Action 46: 0.004 click rate (68 clicks out of 17296 times shown)\n",
      "Action 47: 0.006 click rate (96 clicks out of 17159 times shown)\n",
      "Action 48: 0.006 click rate (104 clicks out of 16576 times shown)\n",
      "Action 49: 0.005 click rate (92 clicks out of 17173 times shown)\n",
      "Action 50: 0.005 click rate (85 clicks out of 16639 times shown)\n",
      "Action 51: 0.005 click rate (84 clicks out of 17102 times shown)\n",
      "Action 52: 0.004 click rate (66 clicks out of 17125 times shown)\n",
      "Action 53: 0.003 click rate (55 clicks out of 16733 times shown)\n",
      "Action 54: 0.001 click rate (20 clicks out of 16330 times shown)\n",
      "Action 55: 0.003 click rate (56 clicks out of 16552 times shown)\n",
      "Action 56: 0.001 click rate (26 clicks out of 17700 times shown)\n",
      "Action 57: 0.005 click rate (84 clicks out of 17498 times shown)\n",
      "Action 58: 0.007 click rate (113 clicks out of 16913 times shown)\n",
      "Action 59: 0.005 click rate (77 clicks out of 16593 times shown)\n",
      "Action 60: 0.008 click rate (128 clicks out of 16325 times shown)\n",
      "Action 61: 0.005 click rate (90 clicks out of 17337 times shown)\n",
      "Action 62: 0.005 click rate (85 clicks out of 17114 times shown)\n",
      "Action 63: 0.006 click rate (100 clicks out of 17753 times shown)\n",
      "Action 64: 0.003 click rate (51 clicks out of 16976 times shown)\n",
      "Action 65: 0.004 click rate (63 clicks out of 17389 times shown)\n",
      "Action 66: 0.003 click rate (49 clicks out of 17601 times shown)\n",
      "Action 67: 0.002 click rate (38 clicks out of 17043 times shown)\n",
      "Action 68: 0.002 click rate (41 clicks out of 17380 times shown)\n",
      "Action 69: 0.004 click rate (62 clicks out of 17394 times shown)\n",
      "Action 70: 0.001 click rate (24 clicks out of 17564 times shown)\n",
      "Action 71: 0.002 click rate (39 clicks out of 17256 times shown)\n",
      "Action 72: 0.003 click rate (51 clicks out of 17446 times shown)\n",
      "Action 73: 0.002 click rate (39 clicks out of 16712 times shown)\n",
      "Action 74: 0.001 click rate (22 clicks out of 17147 times shown)\n",
      "Action 75: 0.002 click rate (35 clicks out of 16594 times shown)\n",
      "Action 76: 0.003 click rate (49 clicks out of 16658 times shown)\n",
      "Action 77: 0.004 click rate (71 clicks out of 17597 times shown)\n",
      "Action 78: 0.005 click rate (79 clicks out of 16492 times shown)\n",
      "Action 79: 0.005 click rate (78 clicks out of 17137 times shown)\n"
     ]
    }
   ],
   "source": [
    "for action in np.unique(rewarded_actions):\n",
    "    action_mask = data['action'] == action\n",
    "    success_rate = data['reward'][action_mask].mean()\n",
    "    total_shown = action_mask.sum()\n",
    "    clicks = data['reward'][action_mask].sum()\n",
    "    print(f\"Action {action}: {success_rate:.3f} click rate ({clicks:.0f} clicks out of {total_shown} times shown)\")"
   ]
  },
  {
   "cell_type": "markdown",
   "metadata": {},
   "source": [
    "### Context\n",
    "\n",
    "##### **Per-Feature Activation Rate**\n",
    "\n",
    "How often each context feature is “on” (i.e., equals 1):"
   ]
  },
  {
   "cell_type": "code",
   "execution_count": 11,
   "metadata": {},
   "outputs": [
    {
     "data": {
      "image/png": "[encoded data removed]",
      "text/plain": [
       "<Figure size 1000x400 with 1 Axes>"
      ]
     },
     "metadata": {},
     "output_type": "display_data"
    }
   ],
   "source": [
    "context_matrix = data[\"context\"]\n",
    "activation_rate = context_matrix.mean(axis=0)\n",
    "\n",
    "plt.figure(figsize=(10,4))\n",
    "plt.bar(range(len(activation_rate)), activation_rate)\n",
    "plt.xlabel(\"Context Feature Index\")\n",
    "plt.ylabel(\"Activation Frequency\")\n",
    "plt.title(\"Context Feature Activation Rates\")\n",
    "plt.show()"
   ]
  },
  {
   "cell_type": "markdown",
   "metadata": {},
   "source": [
    "This shows the average activation rate for each binary context feature. The plot reveals that while some features are frequently active (e.g., feature 1 appears in over 50% of samples), others are almost never activated. \n",
    "\n",
    "This sparsity implies that certain features provide little to no information during training, making it difficult for any learning algorithm to associate them with specific actions or rewards. These rarely active features could potentially be dropped or regularized more heavily in models to reduce noise and improve learning efficiency - which we will.\n",
    "\n",
    "##### **Sparsity Per Row**\n",
    "\n",
    "How many features are “on” for each user (row):"
   ]
  },
  {
   "cell_type": "code",
   "execution_count": 12,
   "metadata": {},
   "outputs": [
    {
     "data": {
      "image/png": "[encoded data removed]",
      "text/plain": [
       "<Figure size 640x480 with 1 Axes>"
      ]
     },
     "metadata": {},
     "output_type": "display_data"
    }
   ],
   "source": [
    "sparsity = context_matrix.sum(axis=1)\n",
    "\n",
    "plt.hist(sparsity, bins=range(0, context_matrix.shape[1] + 1), align='left')\n",
    "plt.xlabel(\"Number of Active Context Features\")\n",
    "plt.ylabel(\"Frequency\")\n",
    "plt.title(\"Sparsity of Context Vectors\")\n",
    "plt.show()"
   ]
  },
  {
   "cell_type": "markdown",
   "metadata": {},
   "source": [
    "This histogram shows the number of active (i.e., non-zero) context features per user interaction. We observe that almost all context vectors have only **2 to 4 features active**, despite having 26 dimensions in total.\n",
    "\n",
    "This confirms that the dataset is highly sparse, which is typical for one-hot or multi-hot encoded categorical features. From a modeling perspective, it means that:\n",
    "- Only a small subset of features is relevant per interaction\n",
    "- Models must learn efficiently from these sparse signals\n",
    "- Regularization or dimensionality reduction may help if certain features carry little information\n",
    "\n",
    "##### **Co-Occurrence**"
   ]
  },
  {
   "cell_type": "code",
   "execution_count": null,
   "metadata": {},
   "outputs": [
    {
     "data": {
      "image/png": "[encoded data removed]",
      "text/plain": [
       "<Figure size 640x480 with 2 Axes>"
      ]
     },
     "metadata": {},
     "output_type": "display_data"
    }
   ],
   "source": [
    "co_matrix = (context_matrix.T @ context_matrix) / context_matrix.shape[0]\n",
    "sns.heatmap(co_matrix, cmap=\"Blues\")\n",
    "plt.title(\"Context Feature Co-occurrence Matrix\")\n",
    "plt.show()"
   ]
  },
  {
   "cell_type": "markdown",
   "metadata": {},
   "source": [
    "##### **PCA**"
   ]
  },
  {
   "cell_type": "code",
   "execution_count": null,
   "metadata": {},
   "outputs": [
    {
     "data": {
      "image/png": "[encoded data removed]",
      "text/plain": [
       "<Figure size 640x480 with 1 Axes>"
      ]
     },
     "metadata": {},
     "output_type": "display_data"
    }
   ],
   "source": [
    "pca = PCA(n_components=2)\n",
    "X_reduced = pca.fit_transform(context_matrix)\n",
    "\n",
    "plt.scatter(X_reduced[:, 0], X_reduced[:, 1], alpha=0.3, s=5)\n",
    "plt.title(\"PCA of Context Vectors\")\n",
    "plt.xlabel(\"PC1\")\n",
    "plt.ylabel(\"PC2\")\n",
    "plt.show()"
   ]
  },
  {
   "cell_type": "markdown",
   "metadata": {},
   "source": [
    "### Context Feature Preprocessing\n",
    "\n",
    "The co-occurrence matrix and PCA projection suggest that the context space is highly sparse and low-dimensional. Many context features are rarely active and do not contribute meaningfully to the variance in the data. \n",
    "\n",
    "To improve learning and reduce computational overhead, we propose the following preprocessing steps:\n",
    "- **Drop rarely active features** (e.g., activated in <1% of samples)\n",
    "- **Apply PCA** to reduce the dimensionality of the context vectors (still exaplaining 99% of the data though)\n",
    "- **Normalize inputs** if any continuous context features are included in the future\n",
    "\n",
    "This should improve model robustness and accelerate convergence in downstream learning."
   ]
  }
 ],
 "metadata": {
  "kernelspec": {
   "display_name": ".venv",
   "language": "python",
   "name": "python3"
  },
  "language_info": {
   "codemirror_mode": {
    "name": "ipython",
    "version": 3
   },
   "file_extension": ".py",
   "mimetype": "text/x-python",
   "name": "python",
   "nbconvert_exporter": "python",
   "pygments_lexer": "ipython3",
   "version": "3.12.2"
  }
 },
 "nbformat": 4,
 "nbformat_minor": 2
}
