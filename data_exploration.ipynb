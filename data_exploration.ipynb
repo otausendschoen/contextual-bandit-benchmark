{
 "cells": [
  {
   "cell_type": "markdown",
   "metadata": {},
   "source": [
    "# Exploring the OBP Data\n",
    "\n",
    "- Exploring the OBP data \n",
    "- Understanding the components and distributions of the data\n",
    "- See if there are any implications for the algorithms we intend to use "
   ]
  },
  {
   "cell_type": "code",
   "execution_count": null,
   "metadata": {},
   "outputs": [],
   "source": [
    "# Load Olivers functions\n",
    "from load_opb import load_obp_dataset, preview_dataset\n",
    "\n",
    "import pandas as pd \n",
    "import numpy as np \n",
    "import matplotlib.pyplot as plt"
   ]
  },
  {
   "cell_type": "code",
   "execution_count": 55,
   "metadata": {},
   "outputs": [
    {
     "name": "stderr",
     "output_type": "stream",
     "text": [
      "INFO:obp.dataset.real:When `data_path` is not given, this class downloads the example small-sized version of the Open Bandit Dataset.\n",
      "/Users/timothycassel/Desktop/Data Science MSc/Semester 3/Reinforcement Learning/contextual-bandit-benchmark/.venv/lib/python3.12/site-packages/obp/dataset/real.py:192: FutureWarning: In a future version of pandas all arguments of DataFrame.drop except for the argument 'labels' will be keyword-only.\n",
      "  item_feature_cat = self.item_context.drop(\"item_feature_0\", 1).apply(\n",
      "/Users/timothycassel/Desktop/Data Science MSc/Semester 3/Reinforcement Learning/contextual-bandit-benchmark/.venv/lib/python3.12/site-packages/obp/dataset/real.py:195: FutureWarning: In a future version of pandas all arguments of concat except for the argument 'objs' will be keyword-only.\n",
      "  self.action_context = pd.concat([item_feature_cat, item_feature_0], 1).values\n"
     ]
    }
   ],
   "source": [
    "# Load and explore\n",
    "data = load_obp_dataset(campaign=\"all\", n_rounds=50000) "
   ]
  },
  {
   "cell_type": "markdown",
   "metadata": {},
   "source": [
    "**Data Structure**\n",
    "\n",
    "```\n",
    "data = {\n",
    "    \"context\": bandit_feedback[\"context\"],     # User/situation features\n",
    "    \"action\": bandit_feedback[\"action\"],       # Which fashion item was shown\n",
    "    \"reward\": bandit_feedback[\"reward\"],       # Did user click? (0/1)\n",
    "    \"pscore\": bandit_feedback[\"pscore\"],       # True probability of selecting that action\n",
    "    \"n_actions\": dataset.n_actions,            # Total number of possible fashion items\n",
    "}\n",
    "```"
   ]
  },
  {
   "cell_type": "code",
   "execution_count": 56,
   "metadata": {},
   "outputs": [
    {
     "name": "stdout",
     "output_type": "stream",
     "text": [
      "Unique values: [0 1]\n",
      "Counts: [9962   38]\n",
      "0.38 %\n"
     ]
    }
   ],
   "source": [
    "# Store reward \n",
    "rewards = data['reward']\n",
    "\n",
    "# Check the distribution of rewards \n",
    "unique_values, counts = np.unique(rewards, return_counts=True)\n",
    "print(\"Unique values:\", unique_values)\n",
    "print(\"Counts:\", counts)\n",
    "print((38/10_000)*100, \"%\")"
   ]
  },
  {
   "cell_type": "markdown",
   "metadata": {},
   "source": [
    "Rewards are super sparse. Only 38 users actually clicked on the ad, which is 0.38% of the total users. "
   ]
  },
  {
   "cell_type": "code",
   "execution_count": 49,
   "metadata": {},
   "outputs": [
    {
     "name": "stdout",
     "output_type": "stream",
     "text": [
      "Unique values - actions: [ 0  1  2  3  4  5  6  7  8  9 10 11 12 13 14 15 16 17 18 19 20 21 22 23\n",
      " 24 25 26 27 28 29 30 31 32 33 34 35 36 37 38 39 40 41 42 43 44 45 46 47\n",
      " 48 49 50 51 52 53 54 55 56 57 58 59 60 61 62 63 64 65 66 67 68 69 70 71\n",
      " 72 73 74 75 76 77 78 79]\n",
      "Counts: [122 160 131 126 121  98 131 146 139 126 140 120 114 129 127 137 111 123\n",
      " 119 128 132 134  96 124 127 131 111 110 126 126 105 130 126 144 135 110\n",
      " 122 136 122 100 132 136 115 126 136 134 154 116 115 114 136 113 136 105\n",
      " 157 126 137 149 112 113 113 104 129 114 133 121 125 103 129 125 124 126\n",
      " 133 124 111 127 122 108 134 138]\n"
     ]
    },
    {
     "data": {
      "image/png": "[encoded data removed]",
      "text/plain": [
       "<Figure size 640x480 with 1 Axes>"
      ]
     },
     "metadata": {},
     "output_type": "display_data"
    }
   ],
   "source": [
    "# Store actions (fashion items shown)\n",
    "actions = data['action']\n",
    "\n",
    "# Check the distribution  of actions \n",
    "unique_values, counts = np.unique(actions, return_counts=True)\n",
    "print(\"Unique values - actions:\", unique_values)\n",
    "print(\"Counts:\", counts)\n",
    "\n",
    "plt.hist(actions, bins=80)\n",
    "plt.show()"
   ]
  },
  {
   "cell_type": "markdown",
   "metadata": {},
   "source": [
    "Actions are shown in roughly equal proportions, but we can look at the most popular and leas popular ones too "
   ]
  },
  {
   "cell_type": "code",
   "execution_count": 50,
   "metadata": {},
   "outputs": [
    {
     "name": "stdout",
     "output_type": "stream",
     "text": [
      "Number of unique actions: 80\n",
      "Most popular action shown 160 times\n",
      "Least popular action shown 96 times\n"
     ]
    }
   ],
   "source": [
    "# Action distribution - are some items shown way more than others?\n",
    "unique_actions, action_counts = np.unique(data['action'], return_counts=True)\n",
    "print(f\"Number of unique actions: {len(unique_actions)}\")\n",
    "print(f\"Most popular action shown {action_counts.max()} times\")\n",
    "print(f\"Least popular action shown {action_counts.min()} times\")"
   ]
  },
  {
   "cell_type": "code",
   "execution_count": 51,
   "metadata": {},
   "outputs": [
    {
     "name": "stdout",
     "output_type": "stream",
     "text": [
      "Actions that got clicks: [ 1  3  6  7  8  9 17 18 21 25 28 34 36 38 41 44 45 46 47 48 49 50 53 57\n",
      " 58 61 65 69 71]\n"
     ]
    }
   ],
   "source": [
    "# Which actions got the rewards?\n",
    "rewarded_actions = data['action'][data['reward'] == 1]\n",
    "print(f\"Actions that got clicks: {np.unique(rewarded_actions)}\")"
   ]
  },
  {
   "cell_type": "code",
   "execution_count": 52,
   "metadata": {},
   "outputs": [
    {
     "name": "stdout",
     "output_type": "stream",
     "text": [
      "Action 1: 0.006 click rate (160 times shown)\n",
      "Action 3: 0.008 click rate (126 times shown)\n",
      "Action 6: 0.015 click rate (131 times shown)\n",
      "Action 7: 0.007 click rate (146 times shown)\n",
      "Action 8: 0.007 click rate (139 times shown)\n",
      "Action 9: 0.008 click rate (126 times shown)\n",
      "Action 17: 0.008 click rate (123 times shown)\n",
      "Action 18: 0.017 click rate (119 times shown)\n",
      "Action 21: 0.007 click rate (134 times shown)\n",
      "Action 25: 0.008 click rate (131 times shown)\n",
      "Action 28: 0.008 click rate (126 times shown)\n",
      "Action 34: 0.007 click rate (135 times shown)\n",
      "Action 36: 0.016 click rate (122 times shown)\n",
      "Action 38: 0.008 click rate (122 times shown)\n",
      "Action 41: 0.007 click rate (136 times shown)\n",
      "Action 44: 0.015 click rate (136 times shown)\n",
      "Action 45: 0.007 click rate (134 times shown)\n",
      "Action 46: 0.006 click rate (154 times shown)\n",
      "Action 47: 0.009 click rate (116 times shown)\n",
      "Action 48: 0.009 click rate (115 times shown)\n",
      "Action 49: 0.026 click rate (114 times shown)\n",
      "Action 50: 0.007 click rate (136 times shown)\n",
      "Action 53: 0.019 click rate (105 times shown)\n",
      "Action 57: 0.013 click rate (149 times shown)\n",
      "Action 58: 0.018 click rate (112 times shown)\n",
      "Action 61: 0.010 click rate (104 times shown)\n",
      "Action 65: 0.008 click rate (121 times shown)\n",
      "Action 69: 0.008 click rate (125 times shown)\n",
      "Action 71: 0.008 click rate (126 times shown)\n"
     ]
    }
   ],
   "source": [
    "# Success rate by action (for actions that got clicks)\n",
    "for action in np.unique(rewarded_actions):\n",
    "    action_mask = data['action'] == action\n",
    "    success_rate = data['reward'][action_mask].mean()\n",
    "    total_shown = action_mask.sum()\n",
    "    print(f\"Action {action}: {success_rate:.3f} click rate ({total_shown} times shown)\")"
   ]
  },
  {
   "cell_type": "code",
   "execution_count": 53,
   "metadata": {},
   "outputs": [
    {
     "name": "stdout",
     "output_type": "stream",
     "text": [
      "Total clicks: 38\n",
      "Context range: [0.00, 1.00]\n",
      "Context std: 0.35\n",
      "Actions: 80\n"
     ]
    }
   ],
   "source": [
    "# 1. Do you have enough positive examples to learn from?\n",
    "n_clicks = data['reward'].sum()\n",
    "print(f\"Total clicks: {n_clicks}\")\n",
    "# Need at least ~100+ for meaningful learning\n",
    "\n",
    "# 2. Are contexts standardized? (Neural networks are picky)\n",
    "print(f\"Context range: [{data['context'].min():.2f}, {data['context'].max():.2f}]\")\n",
    "print(f\"Context std: {data['context'].std():.2f}\")\n",
    "# If not roughly [-2, 2] range, you'll need to normalize\n",
    "\n",
    "# 3. Action space size (affects network architecture)\n",
    "print(f\"Actions: {data['n_actions']}\")\n",
    "# This determines your output layer size"
   ]
  }
 ],
 "metadata": {
  "kernelspec": {
   "display_name": ".venv",
   "language": "python",
   "name": "python3"
  },
  "language_info": {
   "codemirror_mode": {
    "name": "ipython",
    "version": 3
   },
   "file_extension": ".py",
   "mimetype": "text/x-python",
   "name": "python",
   "nbconvert_exporter": "python",
   "pygments_lexer": "ipython3",
   "version": "3.12.11"
  }
 },
 "nbformat": 4,
 "nbformat_minor": 2
}
