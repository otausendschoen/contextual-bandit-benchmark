{
 "cells": [
  {
   "cell_type": "markdown",
   "id": "30c4601c",
   "metadata": {},
   "source": [
    "![bse_logo_textminingcourse](https://bse.eu/sites/default/files/bse_logo_small.png)\n",
    "\n",
    "# *Final Project: Contextual Bandits - Algorithm Analysis*\n",
    "\n",
    "## Reinforcement Learning\n",
    "\n",
    "#### Authors: **Timothy Cassel, Marvin Ernst, Oliver Tausendschön**\n",
    "\n",
    "Date: July 2, 2025\n",
    "\n",
    "Instructors: *Hamish Flynn and Vincent Adam*\n",
    "\n",
    "In this notebook, we evaluate and analyze contextual bandit algorithms using the **Open Bandit Dataset (OBD)**. The main focus lies on implementing and benchmarking **Thompson Sampling (TS)** variants under realistic logged feedback conditions.\n",
    "\n",
    "We perform the following:\n",
    "- Implement **Thompson Sampling for linear bandits** using Bayesian linear regression\n",
    "- Compare TS to **LinUCB** and **Random** policies\n",
    "- Evaluate offline performance using:\n",
    "  - **Inverse Propensity Scoring (IPS)**\n",
    "  - **Doubly Robust (DR)** estimators\n",
    "- Assess exploration behavior and learning stability\n",
    " \n",
    "This notebook provides additional insights into the empirical behavior of Bayesian bandit strategies and whether **TS** can outperform **UCB** in sparse, realistic environments.\n",
    "\n",
    "---\n",
    "\n",
    "## 1. Setup and Imports\n",
    "\n",
    "Importing the relevant libraries:"
   ]
  },
  {
   "cell_type": "code",
   "execution_count": 1,
   "id": "0cdb7272",
   "metadata": {},
   "outputs": [],
   "source": [
    "import numpy as np\n",
    "import matplotlib.pyplot as plt\n",
    "from sklearn.linear_model import BayesianRidge\n",
    "from sklearn.ensemble import RandomForestRegressor\n",
    "from sklearn.preprocessing import OneHotEncoder\n",
    "from collections import defaultdict\n",
    "import random\n",
    "import os"
   ]
  },
  {
   "cell_type": "markdown",
   "id": "9a2de030",
   "metadata": {},
   "source": [
    "Set seeds for reproducibility:"
   ]
  },
  {
   "cell_type": "code",
   "execution_count": 2,
   "id": "8c14fab7",
   "metadata": {},
   "outputs": [],
   "source": [
    "np.random.seed(42)\n",
    "random.seed(42)"
   ]
  },
  {
   "cell_type": "markdown",
   "id": "48e5d0af",
   "metadata": {},
   "source": [
    "## 2. Load Processed Data\n",
    "\n",
    "(We have the preprocessed version in `processed_top3/`)"
   ]
  },
  {
   "cell_type": "code",
   "execution_count": 6,
   "id": "b6bd91fa",
   "metadata": {},
   "outputs": [
    {
     "name": "stdout",
     "output_type": "stream",
     "text": [
      "Context shape: (53988, 12), #Arms: 3\n"
     ]
    }
   ],
   "source": [
    "X_context = np.load(\"processed_top3/context_reduced.npy\")\n",
    "actions = np.load(\"processed_top3/actions.npy\")\n",
    "rewards = np.load(\"processed_top3/rewards.npy\")\n",
    "pscores = np.load(\"processed_top3/pscores.npy\")\n",
    "meta = np.genfromtxt(\"processed_top3/meta.txt\", skip_header=1)\n",
    "\n",
    "n_rounds, context_dim = X_context.shape\n",
    "n_arms = len(np.unique(actions))\n",
    "\n",
    "print(f\"Context shape: {X_context.shape}, #Arms: {n_arms}\")"
   ]
  },
  {
   "cell_type": "markdown",
   "id": "49295839",
   "metadata": {},
   "source": [
    "## 3. Implement Thompson Sampling\n",
    "\n",
    "**To be continued!**"
   ]
  },
  {
   "cell_type": "code",
   "execution_count": null,
   "id": "3b361dd0",
   "metadata": {},
   "outputs": [],
   "source": []
  }
 ],
 "metadata": {
  "kernelspec": {
   "display_name": ".venv",
   "language": "python",
   "name": "python3"
  },
  "language_info": {
   "codemirror_mode": {
    "name": "ipython",
    "version": 3
   },
   "file_extension": ".py",
   "mimetype": "text/x-python",
   "name": "python",
   "nbconvert_exporter": "python",
   "pygments_lexer": "ipython3",
   "version": "3.12.2"
  }
 },
 "nbformat": 4,
 "nbformat_minor": 5
}
